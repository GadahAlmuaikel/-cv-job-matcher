{
  "nbformat": 4,
  "nbformat_minor": 0,
  "metadata": {
    "colab": {
      "provenance": []
    },
    "kernelspec": {
      "name": "python3",
      "display_name": "Python 3"
    },
    "language_info": {
      "name": "python"
    }
  },
  "cells": [
    {
      "cell_type": "code",
      "execution_count": 11,
      "metadata": {
        "colab": {
          "base_uri": "https://localhost:8080/"
        },
        "id": "_vJvnnmGWlol",
        "outputId": "e2ec91b7-9bd8-4da9-f6e9-9c4ba90c0ec0"
      },
      "outputs": [
        {
          "output_type": "stream",
          "name": "stdout",
          "text": [
            "Requirement already satisfied: transformers in /usr/local/lib/python3.10/dist-packages (4.44.2)\n",
            "Requirement already satisfied: langdetect in /usr/local/lib/python3.10/dist-packages (1.0.9)\n",
            "Requirement already satisfied: filelock in /usr/local/lib/python3.10/dist-packages (from transformers) (3.16.0)\n",
            "Requirement already satisfied: huggingface-hub<1.0,>=0.23.2 in /usr/local/lib/python3.10/dist-packages (from transformers) (0.24.6)\n",
            "Requirement already satisfied: numpy>=1.17 in /usr/local/lib/python3.10/dist-packages (from transformers) (1.26.4)\n",
            "Requirement already satisfied: packaging>=20.0 in /usr/local/lib/python3.10/dist-packages (from transformers) (24.1)\n",
            "Requirement already satisfied: pyyaml>=5.1 in /usr/local/lib/python3.10/dist-packages (from transformers) (6.0.2)\n",
            "Requirement already satisfied: regex!=2019.12.17 in /usr/local/lib/python3.10/dist-packages (from transformers) (2024.5.15)\n",
            "Requirement already satisfied: requests in /usr/local/lib/python3.10/dist-packages (from transformers) (2.32.3)\n",
            "Requirement already satisfied: safetensors>=0.4.1 in /usr/local/lib/python3.10/dist-packages (from transformers) (0.4.5)\n",
            "Requirement already satisfied: tokenizers<0.20,>=0.19 in /usr/local/lib/python3.10/dist-packages (from transformers) (0.19.1)\n",
            "Requirement already satisfied: tqdm>=4.27 in /usr/local/lib/python3.10/dist-packages (from transformers) (4.66.5)\n",
            "Requirement already satisfied: six in /usr/local/lib/python3.10/dist-packages (from langdetect) (1.16.0)\n",
            "Requirement already satisfied: fsspec>=2023.5.0 in /usr/local/lib/python3.10/dist-packages (from huggingface-hub<1.0,>=0.23.2->transformers) (2024.6.1)\n",
            "Requirement already satisfied: typing-extensions>=3.7.4.3 in /usr/local/lib/python3.10/dist-packages (from huggingface-hub<1.0,>=0.23.2->transformers) (4.12.2)\n",
            "Requirement already satisfied: charset-normalizer<4,>=2 in /usr/local/lib/python3.10/dist-packages (from requests->transformers) (3.3.2)\n",
            "Requirement already satisfied: idna<4,>=2.5 in /usr/local/lib/python3.10/dist-packages (from requests->transformers) (3.8)\n",
            "Requirement already satisfied: urllib3<3,>=1.21.1 in /usr/local/lib/python3.10/dist-packages (from requests->transformers) (2.0.7)\n",
            "Requirement already satisfied: certifi>=2017.4.17 in /usr/local/lib/python3.10/dist-packages (from requests->transformers) (2024.8.30)\n"
          ]
        }
      ],
      "source": [
        "# Install necessary libraries\n",
        "!pip install transformers langdetect\n",
        "from transformers import pipeline\n",
        "from langdetect import detect"
      ]
    },
    {
      "cell_type": "code",
      "source": [
        "#dictonary to map between the return of detected langauge using detect function and langauge codes of translation model\n",
        "lang_code_mapping = {\n",
        "    'ar': 'arb_Arab',\n",
        "    'fr': 'fra_Latn',\n",
        "    'es': 'spa_Latn',\n",
        "    'de': 'deu_Latn',\n",
        "}"
      ],
      "metadata": {
        "id": "g4e_FKAOigeL"
      },
      "execution_count": 16,
      "outputs": []
    },
    {
      "cell_type": "code",
      "source": [
        "#translation model\n",
        "translator = pipeline(task=\"translation\", model=\"facebook/nllb-200-distilled-600M\")"
      ],
      "metadata": {
        "id": "OH7DrgBZimFr"
      },
      "execution_count": 19,
      "outputs": []
    },
    {
      "cell_type": "code",
      "source": [
        "# Function to detect language and translate\n",
        "def detect_and_translate(text):\n",
        "\n",
        "    # Detect the language\n",
        "    detected_lang = detect(text)\n",
        "    print(f\"Detected Language: {detected_lang}\")\n",
        "\n",
        "    #get the source langauge\n",
        "    lang_code = lang_code_mapping.get(detected_lang, \"eng_Latn\")\n",
        "\n",
        "    #translate\n",
        "    translation = translator(text, src_lang=lang_code, tgt_lang=\"eng_Latn\")[0]['translation_text']\n",
        "    print(f\"Translation: {translation}\\n\")\n",
        "\n",
        "\n",
        "\n",
        "text = input(\"Enter your text: \")\n",
        "detect_and_translate(text)\n",
        "\n"
      ],
      "metadata": {
        "colab": {
          "base_uri": "https://localhost:8080/"
        },
        "id": "nb1IrgdlXsO9",
        "outputId": "f16e5edf-b759-466e-8026-0bc146b1a0b9"
      },
      "execution_count": 20,
      "outputs": [
        {
          "output_type": "stream",
          "name": "stdout",
          "text": [
            "Enter your text: صباح الخير\n",
            "Detected Language: ar\n",
            "Translation:Good morning .\n",
            "\n"
          ]
        }
      ]
    }
  ]
}